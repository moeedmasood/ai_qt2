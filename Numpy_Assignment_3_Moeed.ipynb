{
 "cells": [
  {
   "cell_type": "markdown",
   "metadata": {},
   "source": [
    "                                                 Basic Numpy Exercises \n",
    "                                               Compiled by: Dr. Noman Islam"
   ]
  },
  {
   "cell_type": "markdown",
   "metadata": {},
   "source": [
    "#### Derivatives can be calculated numerically with the finite difference method as:\n",
    "f'(x)=f(x+del(x)) - f(x-del(x))/2*del(x)"
   ]
  },
  {
   "cell_type": "markdown",
   "metadata": {},
   "source": [
    "Construct 1D Numpy array containing the values of x in the interval [0,π/2] with spacing Δx=0.1. Evaluate numerically\n",
    "the derivative of sin in this interval (excluding the end points) using the above formula. Try to avoid for loops.\n",
    "Compare the result to function cos in the same interval"
   ]
  },
  {
   "cell_type": "code",
   "execution_count": 3,
   "metadata": {
    "collapsed": true
   },
   "outputs": [
    {
     "data": {
      "text/plain": [
       "array([0. , 0.1, 0.2, 0.3, 0.4, 0.5, 0.6, 0.7, 0.8, 0.9, 1. , 1.1, 1.2,\n",
       "       1.3, 1.4, 1.5])"
      ]
     },
     "execution_count": 3,
     "metadata": {},
     "output_type": "execute_result"
    }
   ],
   "source": [
    "import numpy as np\n",
    "x =np.arange(0,np.pi/2,0.1)\n",
    "x\n"
   ]
  },
  {
   "cell_type": "code",
   "execution_count": 4,
   "metadata": {
    "collapsed": true
   },
   "outputs": [
    {
     "name": "stdout",
     "output_type": "stream",
     "text": [
      "[0.00165751 0.00163263 0.00159143 0.00153433 0.00146191 0.00137487\n",
      " 0.0012741  0.0011606  0.0010355  0.00090005 0.00075562 0.00060363\n",
      " 0.00044561 0.00028314]\n"
     ]
    }
   ],
   "source": [
    "def derivative_x(x,delta):\n",
    "    return (np.sin(x +delta) - (np.sin(x-delta)))/(2*delta)\n",
    "\n",
    "\n",
    "res=derivative_x(x[1:-1],0.1)\n",
    "\n",
    "\n",
    "cos_result = np.cos(x[1:-1])\n",
    "\n",
    "# Check how close the two results are\n",
    "difference = np.abs(res - cos_result)\n",
    "print(difference)\n"
   ]
  },
  {
   "cell_type": "code",
   "execution_count": 9,
   "metadata": {},
   "outputs": [
    {
     "name": "stdout",
     "output_type": "stream",
     "text": [
      "[0.00165751 0.00163263 0.00159143 0.00153433 0.00146191 0.00137487\n",
      " 0.0012741  0.0011606  0.0010355  0.00090005 0.00075562 0.00060363\n",
      " 0.00044561 0.00028314]\n"
     ]
    }
   ],
   "source": [
    "import numpy as np\n",
    "\n",
    "\n",
    "x = np.arange(0, np.pi/2, 0.1)\n",
    "\n",
    "# Compute the derivative of sin using the formula\n",
    "del_x = 0.1\n",
    "derivative = (np.sin(x[1:-1]+del_x) - np.sin(x[1:-1]-del_x)) / (2 * del_x)\n",
    "\n",
    "# Compare the result with the cos function in the same interval\n",
    "cos_result = np.cos(x[1:-1])\n",
    "\n",
    "# Check how close the two results are\n",
    "difference = np.abs(derivative - cos_result)\n",
    "print(difference)\n"
   ]
  }
 ],
 "metadata": {
  "kernelspec": {
   "display_name": "Python 3",
   "language": "python",
   "name": "python3"
  },
  "language_info": {
   "codemirror_mode": {
    "name": "ipython",
    "version": 3
   },
   "file_extension": ".py",
   "mimetype": "text/x-python",
   "name": "python",
   "nbconvert_exporter": "python",
   "pygments_lexer": "ipython3",
   "version": "3.10.9"
  },
  "vscode": {
   "interpreter": {
    "hash": "5f0086ba16c8f8216db2ebe9c1f2e050298ca5ad215d6869e985b1c450f2686c"
   }
  }
 },
 "nbformat": 4,
 "nbformat_minor": 1
}
